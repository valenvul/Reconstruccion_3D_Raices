{
 "cells": [
  {
   "cell_type": "code",
   "execution_count": 1,
   "id": "a770716d-283d-41bd-a140-8794fb27d08d",
   "metadata": {},
   "outputs": [],
   "source": [
    "import numpy as np\n",
    "import cv2 as cv\n",
    "import glob\n",
    "\n",
    "# termination criteria\n",
    "criteria = (cv.TERM_CRITERIA_EPS + cv.TERM_CRITERIA_MAX_ITER, 30, 0.001)\n",
    "\n",
    "# prepare object points, like (0,0,0), (1,0,0), (2,0,0) ....,(6,5,0)\n",
    "objp = np.zeros((6*7,3), np.float32)\n",
    "objp[:,:2] = np.mgrid[0:7,0:6].T.reshape(-1,2)\n",
    "\n",
    "# Arrays to store object points and image points from all the images.\n",
    "objpoints = [] # 3d point in real world space\n",
    "imgpoints = [] # 2d points in image plane.\n",
    "\n",
    "images = glob.glob('left/*.jpg')\n",
    "\n",
    "for fname in images:\n",
    "\timg = cv.imread(fname)\n",
    "\tgray = cv.cvtColor(img, cv.COLOR_BGR2GRAY)\n",
    "\n",
    "\t# Find the chess board corners\n",
    "\tret, corners = cv.findChessboardCorners(gray, (7,6), None)\n",
    "\n",
    "\t# If found, add object points, image points (after refining them)\n",
    "\tif ret == True:\n",
    "\t\tobjpoints.append(objp)\n",
    "\t\t\n",
    "\t\tcorners2 = cv.cornerSubPix(gray,corners, (11,11), (-1,-1), criteria)\n",
    "\t\timgpoints.append(corners2)\n",
    "\n",
    "\t\t# Draw and display the corners\n",
    "\t\tcv.drawChessboardCorners(img, (7,6), corners2, ret)\n",
    "\t\tcv.imshow('img', img)\n",
    "\t\tcv.waitKey(500)\n",
    "\n",
    "cv.destroyAllWindows()"
   ]
  },
  {
   "cell_type": "code",
   "execution_count": 5,
   "id": "c031a97c-c3d5-479c-973b-162bb185ee7e",
   "metadata": {},
   "outputs": [],
   "source": [
    "ret, mtx, dist, rvecs, tvecs = cv.calibrateCamera(objpoints, imgpoints, gray.shape[::-1], None, None) #calibration"
   ]
  },
  {
   "cell_type": "code",
   "execution_count": 9,
   "id": "59ad7c8a-ce65-43c8-9298-575790f044a9",
   "metadata": {},
   "outputs": [
    {
     "data": {
      "text/plain": [
       "True"
      ]
     },
     "execution_count": 9,
     "metadata": {},
     "output_type": "execute_result"
    }
   ],
   "source": [
    "# undistortion\n",
    "img = cv.imread('left/left12.jpg')\n",
    "h,  w = img.shape[:2]\n",
    "newcameramtx, roi = cv.getOptimalNewCameraMatrix(mtx, dist, (w,h), 1, (w,h))\n",
    "\n",
    "# undistort\n",
    "dst = cv.undistort(img, mtx, dist, None, newcameramtx)\n",
    " \n",
    "# crop the image\n",
    "x, y, w, h = roi\n",
    "dst = dst[y:y+h, x:x+w]\n",
    "cv.imwrite('calibresult.png', dst)"
   ]
  }
 ],
 "metadata": {
  "kernelspec": {
   "display_name": "Python 3 (ipykernel)",
   "language": "python",
   "name": "python3"
  },
  "language_info": {
   "codemirror_mode": {
    "name": "ipython",
    "version": 3
   },
   "file_extension": ".py",
   "mimetype": "text/x-python",
   "name": "python",
   "nbconvert_exporter": "python",
   "pygments_lexer": "ipython3",
   "version": "3.12.4"
  }
 },
 "nbformat": 4,
 "nbformat_minor": 5
}
